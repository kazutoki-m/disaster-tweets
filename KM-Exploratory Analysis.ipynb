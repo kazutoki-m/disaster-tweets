{
 "cells": [
  {
   "cell_type": "code",
   "execution_count": 446,
   "id": "9b8ad36f",
   "metadata": {},
   "outputs": [],
   "source": [
    "## Import necessay packages\n",
    "import numpy as np\n",
    "import pandas as pd\n",
    "import matplotlib.pyplot as plt\n",
    "from sklearn import feature_extraction, linear_model, model_selection, preprocessing\n",
    "from scipy import linalg as lg\n",
    "import nltk\n",
    "\n",
    "import tensorflow as tf\n",
    "import tensorflow_hub as hub\n",
    "from tensorflow import keras\n",
    "from keras.preprocessing.text import Tokenizer\n",
    "from tensorflow.keras.optimizers import SGD, Adam\n",
    "from tensorflow.keras.layers import Dense, Input, Dropout, GlobalAveragePooling1D\n",
    "from tensorflow.keras.models import Model, Sequential\n",
    "from tensorflow.keras.callbacks import ModelCheckpoint, EarlyStopping, Callback\n",
    "\n",
    "%matplotlib inline"
   ]
  },
  {
   "cell_type": "code",
   "execution_count": 410,
   "id": "41152b37",
   "metadata": {},
   "outputs": [
    {
     "data": {
      "text/html": [
       "<div>\n",
       "<style scoped>\n",
       "    .dataframe tbody tr th:only-of-type {\n",
       "        vertical-align: middle;\n",
       "    }\n",
       "\n",
       "    .dataframe tbody tr th {\n",
       "        vertical-align: top;\n",
       "    }\n",
       "\n",
       "    .dataframe thead th {\n",
       "        text-align: right;\n",
       "    }\n",
       "</style>\n",
       "<table border=\"1\" class=\"dataframe\">\n",
       "  <thead>\n",
       "    <tr style=\"text-align: right;\">\n",
       "      <th></th>\n",
       "      <th>id</th>\n",
       "      <th>keyword</th>\n",
       "      <th>location</th>\n",
       "      <th>text</th>\n",
       "      <th>target</th>\n",
       "    </tr>\n",
       "  </thead>\n",
       "  <tbody>\n",
       "    <tr>\n",
       "      <th>0</th>\n",
       "      <td>1</td>\n",
       "      <td>NaN</td>\n",
       "      <td>NaN</td>\n",
       "      <td>Our Deeds are the Reason of this #earthquake M...</td>\n",
       "      <td>1</td>\n",
       "    </tr>\n",
       "    <tr>\n",
       "      <th>1</th>\n",
       "      <td>4</td>\n",
       "      <td>NaN</td>\n",
       "      <td>NaN</td>\n",
       "      <td>Forest fire near La Ronge Sask. Canada</td>\n",
       "      <td>1</td>\n",
       "    </tr>\n",
       "    <tr>\n",
       "      <th>2</th>\n",
       "      <td>5</td>\n",
       "      <td>NaN</td>\n",
       "      <td>NaN</td>\n",
       "      <td>All residents asked to 'shelter in place' are ...</td>\n",
       "      <td>1</td>\n",
       "    </tr>\n",
       "    <tr>\n",
       "      <th>3</th>\n",
       "      <td>6</td>\n",
       "      <td>NaN</td>\n",
       "      <td>NaN</td>\n",
       "      <td>13,000 people receive #wildfires evacuation or...</td>\n",
       "      <td>1</td>\n",
       "    </tr>\n",
       "    <tr>\n",
       "      <th>4</th>\n",
       "      <td>7</td>\n",
       "      <td>NaN</td>\n",
       "      <td>NaN</td>\n",
       "      <td>Just got sent this photo from Ruby #Alaska as ...</td>\n",
       "      <td>1</td>\n",
       "    </tr>\n",
       "  </tbody>\n",
       "</table>\n",
       "</div>"
      ],
      "text/plain": [
       "   id keyword location                                               text  \\\n",
       "0   1     NaN      NaN  Our Deeds are the Reason of this #earthquake M...   \n",
       "1   4     NaN      NaN             Forest fire near La Ronge Sask. Canada   \n",
       "2   5     NaN      NaN  All residents asked to 'shelter in place' are ...   \n",
       "3   6     NaN      NaN  13,000 people receive #wildfires evacuation or...   \n",
       "4   7     NaN      NaN  Just got sent this photo from Ruby #Alaska as ...   \n",
       "\n",
       "   target  \n",
       "0       1  \n",
       "1       1  \n",
       "2       1  \n",
       "3       1  \n",
       "4       1  "
      ]
     },
     "execution_count": 410,
     "metadata": {},
     "output_type": "execute_result"
    }
   ],
   "source": [
    "train = pd.read_csv('./data/train.csv')\n",
    "train.head()"
   ]
  },
  {
   "cell_type": "code",
   "execution_count": 411,
   "id": "db86a22c",
   "metadata": {
    "scrolled": false
   },
   "outputs": [
    {
     "data": {
      "text/html": [
       "<div>\n",
       "<style scoped>\n",
       "    .dataframe tbody tr th:only-of-type {\n",
       "        vertical-align: middle;\n",
       "    }\n",
       "\n",
       "    .dataframe tbody tr th {\n",
       "        vertical-align: top;\n",
       "    }\n",
       "\n",
       "    .dataframe thead th {\n",
       "        text-align: right;\n",
       "    }\n",
       "</style>\n",
       "<table border=\"1\" class=\"dataframe\">\n",
       "  <thead>\n",
       "    <tr style=\"text-align: right;\">\n",
       "      <th></th>\n",
       "      <th>id</th>\n",
       "      <th>keyword</th>\n",
       "      <th>location</th>\n",
       "      <th>text</th>\n",
       "    </tr>\n",
       "  </thead>\n",
       "  <tbody>\n",
       "    <tr>\n",
       "      <th>0</th>\n",
       "      <td>0</td>\n",
       "      <td>NaN</td>\n",
       "      <td>NaN</td>\n",
       "      <td>Just happened a terrible car crash</td>\n",
       "    </tr>\n",
       "    <tr>\n",
       "      <th>1</th>\n",
       "      <td>2</td>\n",
       "      <td>NaN</td>\n",
       "      <td>NaN</td>\n",
       "      <td>Heard about #earthquake is different cities, s...</td>\n",
       "    </tr>\n",
       "    <tr>\n",
       "      <th>2</th>\n",
       "      <td>3</td>\n",
       "      <td>NaN</td>\n",
       "      <td>NaN</td>\n",
       "      <td>there is a forest fire at spot pond, geese are...</td>\n",
       "    </tr>\n",
       "    <tr>\n",
       "      <th>3</th>\n",
       "      <td>9</td>\n",
       "      <td>NaN</td>\n",
       "      <td>NaN</td>\n",
       "      <td>Apocalypse lighting. #Spokane #wildfires</td>\n",
       "    </tr>\n",
       "    <tr>\n",
       "      <th>4</th>\n",
       "      <td>11</td>\n",
       "      <td>NaN</td>\n",
       "      <td>NaN</td>\n",
       "      <td>Typhoon Soudelor kills 28 in China and Taiwan</td>\n",
       "    </tr>\n",
       "    <tr>\n",
       "      <th>5</th>\n",
       "      <td>12</td>\n",
       "      <td>NaN</td>\n",
       "      <td>NaN</td>\n",
       "      <td>We're shaking...It's an earthquake</td>\n",
       "    </tr>\n",
       "    <tr>\n",
       "      <th>6</th>\n",
       "      <td>21</td>\n",
       "      <td>NaN</td>\n",
       "      <td>NaN</td>\n",
       "      <td>They'd probably still show more life than Arse...</td>\n",
       "    </tr>\n",
       "    <tr>\n",
       "      <th>7</th>\n",
       "      <td>22</td>\n",
       "      <td>NaN</td>\n",
       "      <td>NaN</td>\n",
       "      <td>Hey! How are you?</td>\n",
       "    </tr>\n",
       "    <tr>\n",
       "      <th>8</th>\n",
       "      <td>27</td>\n",
       "      <td>NaN</td>\n",
       "      <td>NaN</td>\n",
       "      <td>What a nice hat?</td>\n",
       "    </tr>\n",
       "    <tr>\n",
       "      <th>9</th>\n",
       "      <td>29</td>\n",
       "      <td>NaN</td>\n",
       "      <td>NaN</td>\n",
       "      <td>Fuck off!</td>\n",
       "    </tr>\n",
       "  </tbody>\n",
       "</table>\n",
       "</div>"
      ],
      "text/plain": [
       "   id keyword location                                               text\n",
       "0   0     NaN      NaN                 Just happened a terrible car crash\n",
       "1   2     NaN      NaN  Heard about #earthquake is different cities, s...\n",
       "2   3     NaN      NaN  there is a forest fire at spot pond, geese are...\n",
       "3   9     NaN      NaN           Apocalypse lighting. #Spokane #wildfires\n",
       "4  11     NaN      NaN      Typhoon Soudelor kills 28 in China and Taiwan\n",
       "5  12     NaN      NaN                 We're shaking...It's an earthquake\n",
       "6  21     NaN      NaN  They'd probably still show more life than Arse...\n",
       "7  22     NaN      NaN                                  Hey! How are you?\n",
       "8  27     NaN      NaN                                   What a nice hat?\n",
       "9  29     NaN      NaN                                          Fuck off!"
      ]
     },
     "execution_count": 411,
     "metadata": {},
     "output_type": "execute_result"
    }
   ],
   "source": [
    "test = pd.read_csv(('./data/test.csv'))\n",
    "test.head(10)"
   ]
  },
  {
   "cell_type": "markdown",
   "id": "5f29028b",
   "metadata": {},
   "source": [
    "# 1. Data Exploration\n",
    "### *Would drop the 'location' column from the analysis since it has too many missing values"
   ]
  },
  {
   "cell_type": "code",
   "execution_count": 412,
   "id": "a629bc42",
   "metadata": {
    "scrolled": true
   },
   "outputs": [
    {
     "data": {
      "text/plain": [
       "(3271, 4342)"
      ]
     },
     "execution_count": 412,
     "metadata": {},
     "output_type": "execute_result"
    }
   ],
   "source": [
    "## Check the nunmber of real and fake disaster tweets\n",
    "len(train[train['target']==1]), len(train[train['target']==0])"
   ]
  },
  {
   "cell_type": "code",
   "execution_count": 413,
   "id": "e0a79c36",
   "metadata": {
    "scrolled": true
   },
   "outputs": [
    {
     "name": "stderr",
     "output_type": "stream",
     "text": [
      "/Users/kazutoki.matsui/miniforge3/envs/mytf/lib/python3.9/site-packages/seaborn/_decorators.py:36: FutureWarning: Pass the following variables as keyword args: x, y. From version 0.12, the only valid positional argument will be `data`, and passing other arguments without an explicit keyword will result in an error or misinterpretation.\n",
      "  warnings.warn(\n"
     ]
    },
    {
     "data": {
      "text/plain": [
       "Text(0, 0.5, 'samples')"
      ]
     },
     "execution_count": 413,
     "metadata": {},
     "output_type": "execute_result"
    },
    {
     "data": {
      "image/png": "[encoded data removed]",
      "text/plain": [
       "<Figure size 432x288 with 1 Axes>"
      ]
     },
     "metadata": {
      "needs_background": "light"
     },
     "output_type": "display_data"
    }
   ],
   "source": [
    "## Check the distribution of target variable\n",
    "\n",
    "import seaborn as sns\n",
    "x=train['target'].value_counts()\n",
    "sns.barplot(x.index,x)\n",
    "plt.gca().set_ylabel('samples')"
   ]
  },
  {
   "cell_type": "code",
   "execution_count": 414,
   "id": "4dd6cd61",
   "metadata": {
    "scrolled": true
   },
   "outputs": [
    {
     "data": {
      "text/plain": [
       "id             0\n",
       "keyword       61\n",
       "location    2533\n",
       "text           0\n",
       "target         0\n",
       "dtype: int64"
      ]
     },
     "execution_count": 414,
     "metadata": {},
     "output_type": "execute_result"
    }
   ],
   "source": [
    "# Check missing values in training set\n",
    "train.isnull().sum()"
   ]
  },
  {
   "cell_type": "code",
   "execution_count": 415,
   "id": "9572c432",
   "metadata": {
    "scrolled": true
   },
   "outputs": [
    {
     "data": {
      "text/plain": [
       "id             0\n",
       "keyword       26\n",
       "location    1105\n",
       "text           0\n",
       "dtype: int64"
      ]
     },
     "execution_count": 415,
     "metadata": {},
     "output_type": "execute_result"
    }
   ],
   "source": [
    "# Check missing values in testing set\n",
    "test.isnull().sum()"
   ]
  },
  {
   "cell_type": "code",
   "execution_count": 416,
   "id": "7640aec2",
   "metadata": {},
   "outputs": [
    {
     "data": {
      "image/png": "[encoded data removed]",
      "text/plain": [
       "<Figure size 1080x360 with 2 Axes>"
      ]
     },
     "metadata": {
      "needs_background": "light"
     },
     "output_type": "display_data"
    }
   ],
   "source": [
    "## Visualize Missing Values\n",
    "plt.figure(figsize=(15,5))\n",
    "\n",
    "plt.subplot(1, 2, 1)\n",
    "plt.bar(x='keyword', height= train[['keyword']].isnull().value_counts()[1])\n",
    "plt.bar(x='location', height = train[['location']].isnull().value_counts()[1])\n",
    "plt.xlabel('Feature')\n",
    "plt.ylabel('Missing Value Counts')\n",
    "plt.title('Train')\n",
    "\n",
    "plt.subplot(1, 2, 2)\n",
    "# plt.figure(figsize=(10,5))\n",
    "plt.bar(x='keyword', height= test[['keyword']].isnull().value_counts()[1])\n",
    "plt.bar(x='location', height = test[['location']].isnull().value_counts()[1])\n",
    "plt.xlabel('Feature')\n",
    "plt.ylabel('Missing Value Counts')\n",
    "plt.title('Test')\n",
    "\n",
    "plt.show()"
   ]
  },
  {
   "cell_type": "markdown",
   "id": "d2f09fa8",
   "metadata": {
    "scrolled": true
   },
   "source": [
    "## Check the duplicated tweets"
   ]
  },
  {
   "cell_type": "code",
   "execution_count": 417,
   "id": "6c1c72b3",
   "metadata": {},
   "outputs": [],
   "source": [
    "frames = [train[['id', 'keyword', 'location', 'text']],  test]\n",
    "data = pd.concat(frames)"
   ]
  },
  {
   "cell_type": "code",
   "execution_count": 418,
   "id": "d169e445",
   "metadata": {
    "scrolled": true
   },
   "outputs": [
    {
     "data": {
      "text/plain": [
       "69"
      ]
     },
     "execution_count": 418,
     "metadata": {},
     "output_type": "execute_result"
    }
   ],
   "source": [
    "import collections\n",
    "duplicates = [item for item, count in collections.Counter(train['text']).items() if count >= 2] ## There are bunch of duplicated tweets...\n",
    "len(duplicates)"
   ]
  },
  {
   "cell_type": "code",
   "execution_count": 419,
   "id": "ec469c89",
   "metadata": {},
   "outputs": [
    {
     "data": {
      "text/plain": [
       "69"
      ]
     },
     "execution_count": 419,
     "metadata": {},
     "output_type": "execute_result"
    }
   ],
   "source": [
    "targets = []\n",
    "for d in duplicates:\n",
    "    index = [ind for ind in train.index[train['text'] == d]]\n",
    "    targets.append(train['target'][index].values.tolist())\n",
    "len(targets)"
   ]
  },
  {
   "cell_type": "code",
   "execution_count": 420,
   "id": "72038837",
   "metadata": {
    "scrolled": true
   },
   "outputs": [
    {
     "data": {
      "text/html": [
       "<div>\n",
       "<style scoped>\n",
       "    .dataframe tbody tr th:only-of-type {\n",
       "        vertical-align: middle;\n",
       "    }\n",
       "\n",
       "    .dataframe tbody tr th {\n",
       "        vertical-align: top;\n",
       "    }\n",
       "\n",
       "    .dataframe thead th {\n",
       "        text-align: right;\n",
       "    }\n",
       "</style>\n",
       "<table border=\"1\" class=\"dataframe\">\n",
       "  <thead>\n",
       "    <tr style=\"text-align: right;\">\n",
       "      <th></th>\n",
       "      <th>text</th>\n",
       "      <th>targets</th>\n",
       "      <th>targets_set</th>\n",
       "    </tr>\n",
       "  </thead>\n",
       "  <tbody>\n",
       "    <tr>\n",
       "      <th>4</th>\n",
       "      <td>To fight bioterrorism sir.</td>\n",
       "      <td>[1, 0, 1, 0]</td>\n",
       "      <td>{0, 1}</td>\n",
       "    </tr>\n",
       "    <tr>\n",
       "      <th>7</th>\n",
       "      <td>Mmmmmm I'm burning.... I'm burning buildings I...</td>\n",
       "      <td>[1, 0]</td>\n",
       "      <td>{0, 1}</td>\n",
       "    </tr>\n",
       "    <tr>\n",
       "      <th>13</th>\n",
       "      <td>I Pledge Allegiance To The P.O.P.E. And The Bu...</td>\n",
       "      <td>[0, 1]</td>\n",
       "      <td>{0, 1}</td>\n",
       "    </tr>\n",
       "    <tr>\n",
       "      <th>14</th>\n",
       "      <td>like for the music video I want some real acti...</td>\n",
       "      <td>[1, 0]</td>\n",
       "      <td>{0, 1}</td>\n",
       "    </tr>\n",
       "    <tr>\n",
       "      <th>30</th>\n",
       "      <td>.POTUS #StrategicPatience is a strategy for #G...</td>\n",
       "      <td>[1, 1, 0, 1]</td>\n",
       "      <td>{0, 1}</td>\n",
       "    </tr>\n",
       "    <tr>\n",
       "      <th>34</th>\n",
       "      <td>He came to a land which was engulfed in tribal...</td>\n",
       "      <td>[0, 1, 1, 0, 0, 0]</td>\n",
       "      <td>{0, 1}</td>\n",
       "    </tr>\n",
       "    <tr>\n",
       "      <th>40</th>\n",
       "      <td>Who is bringing the tornadoes and floods. Who ...</td>\n",
       "      <td>[1, 0, 0]</td>\n",
       "      <td>{0, 1}</td>\n",
       "    </tr>\n",
       "    <tr>\n",
       "      <th>41</th>\n",
       "      <td>#foodscare #offers2go #NestleIndia slips into ...</td>\n",
       "      <td>[1, 1, 0]</td>\n",
       "      <td>{0, 1}</td>\n",
       "    </tr>\n",
       "    <tr>\n",
       "      <th>42</th>\n",
       "      <td>Caution: breathing may be hazardous to your he...</td>\n",
       "      <td>[1, 0]</td>\n",
       "      <td>{0, 1}</td>\n",
       "    </tr>\n",
       "    <tr>\n",
       "      <th>43</th>\n",
       "      <td>The Prophet (peace be upon him) said 'Save you...</td>\n",
       "      <td>[0, 0, 1, 0, 0, 1]</td>\n",
       "      <td>{0, 1}</td>\n",
       "    </tr>\n",
       "    <tr>\n",
       "      <th>44</th>\n",
       "      <td>Hellfire is surrounded by desires so be carefu...</td>\n",
       "      <td>[0, 1, 0]</td>\n",
       "      <td>{0, 1}</td>\n",
       "    </tr>\n",
       "    <tr>\n",
       "      <th>46</th>\n",
       "      <td>#Allah describes piling up #wealth thinking it...</td>\n",
       "      <td>[0, 0, 1]</td>\n",
       "      <td>{0, 1}</td>\n",
       "    </tr>\n",
       "    <tr>\n",
       "      <th>49</th>\n",
       "      <td>Hellfire! We donÛªt even want to think about ...</td>\n",
       "      <td>[0, 1]</td>\n",
       "      <td>{0, 1}</td>\n",
       "    </tr>\n",
       "    <tr>\n",
       "      <th>51</th>\n",
       "      <td>RT NotExplained: The only known image of infam...</td>\n",
       "      <td>[0, 1]</td>\n",
       "      <td>{0, 1}</td>\n",
       "    </tr>\n",
       "    <tr>\n",
       "      <th>52</th>\n",
       "      <td>CLEARED:incident with injury:I-495  inner loop...</td>\n",
       "      <td>[1, 1, 0]</td>\n",
       "      <td>{0, 1}</td>\n",
       "    </tr>\n",
       "    <tr>\n",
       "      <th>56</th>\n",
       "      <td>wowo--=== 12000 Nigerian refugees repatriated ...</td>\n",
       "      <td>[1, 0]</td>\n",
       "      <td>{0, 1}</td>\n",
       "    </tr>\n",
       "    <tr>\n",
       "      <th>60</th>\n",
       "      <td>that horrible sinking feeling when youÛªve be...</td>\n",
       "      <td>[1, 0, 0, 1]</td>\n",
       "      <td>{0, 1}</td>\n",
       "    </tr>\n",
       "    <tr>\n",
       "      <th>63</th>\n",
       "      <td>In #islam saving a person is equal in reward t...</td>\n",
       "      <td>[0, 1]</td>\n",
       "      <td>{0, 1}</td>\n",
       "    </tr>\n",
       "  </tbody>\n",
       "</table>\n",
       "</div>"
      ],
      "text/plain": [
       "                                                 text             targets  \\\n",
       "4                          To fight bioterrorism sir.        [1, 0, 1, 0]   \n",
       "7   Mmmmmm I'm burning.... I'm burning buildings I...              [1, 0]   \n",
       "13  I Pledge Allegiance To The P.O.P.E. And The Bu...              [0, 1]   \n",
       "14  like for the music video I want some real acti...              [1, 0]   \n",
       "30  .POTUS #StrategicPatience is a strategy for #G...        [1, 1, 0, 1]   \n",
       "34  He came to a land which was engulfed in tribal...  [0, 1, 1, 0, 0, 0]   \n",
       "40  Who is bringing the tornadoes and floods. Who ...           [1, 0, 0]   \n",
       "41  #foodscare #offers2go #NestleIndia slips into ...           [1, 1, 0]   \n",
       "42  Caution: breathing may be hazardous to your he...              [1, 0]   \n",
       "43  The Prophet (peace be upon him) said 'Save you...  [0, 0, 1, 0, 0, 1]   \n",
       "44  Hellfire is surrounded by desires so be carefu...           [0, 1, 0]   \n",
       "46  #Allah describes piling up #wealth thinking it...           [0, 0, 1]   \n",
       "49  Hellfire! We donÛªt even want to think about ...              [0, 1]   \n",
       "51  RT NotExplained: The only known image of infam...              [0, 1]   \n",
       "52  CLEARED:incident with injury:I-495  inner loop...           [1, 1, 0]   \n",
       "56  wowo--=== 12000 Nigerian refugees repatriated ...              [1, 0]   \n",
       "60  that horrible sinking feeling when youÛªve be...        [1, 0, 0, 1]   \n",
       "63  In #islam saving a person is equal in reward t...              [0, 1]   \n",
       "\n",
       "   targets_set  \n",
       "4       {0, 1}  \n",
       "7       {0, 1}  \n",
       "13      {0, 1}  \n",
       "14      {0, 1}  \n",
       "30      {0, 1}  \n",
       "34      {0, 1}  \n",
       "40      {0, 1}  \n",
       "41      {0, 1}  \n",
       "42      {0, 1}  \n",
       "43      {0, 1}  \n",
       "44      {0, 1}  \n",
       "46      {0, 1}  \n",
       "49      {0, 1}  \n",
       "51      {0, 1}  \n",
       "52      {0, 1}  \n",
       "56      {0, 1}  \n",
       "60      {0, 1}  \n",
       "63      {0, 1}  "
      ]
     },
     "execution_count": 420,
     "metadata": {},
     "output_type": "execute_result"
    }
   ],
   "source": [
    "df_dup = pd.DataFrame({'text': duplicates, 'targets': targets})\n",
    "df_dup['targets_set'] = df_dup['targets'].apply(lambda x: set(x))\n",
    "diff = df_dup[ df_dup['targets_set'].apply(lambda x: len(x)) >=2 ]\n",
    "diff"
   ]
  },
  {
   "cell_type": "code",
   "execution_count": 421,
   "id": "0b440b71",
   "metadata": {},
   "outputs": [
    {
     "data": {
      "text/plain": [
       "18"
      ]
     },
     "execution_count": 421,
     "metadata": {},
     "output_type": "execute_result"
    }
   ],
   "source": [
    "len(diff)\n",
    "## It is just 18 obs that have inconsistencies in the labeling. Manually match the targets? "
   ]
  },
  {
   "cell_type": "code",
   "execution_count": 422,
   "id": "cb4e625d",
   "metadata": {
    "scrolled": true
   },
   "outputs": [
    {
     "name": "stdout",
     "output_type": "stream",
     "text": [
      "0 To fight bioterrorism sir.\n",
      "\n",
      "1 Mmmmmm I'm burning.... I'm burning buildings I'm building.... Oooooohhhh oooh ooh...\n",
      "\n",
      "2 I Pledge Allegiance To The P.O.P.E. And The Burning Buildings of Epic City. ??????\n",
      "\n",
      "3 like for the music video I want some real action shit like burning buildings and police chases not some weak ben winston shit\n",
      "\n",
      "4 .POTUS #StrategicPatience is a strategy for #Genocide; refugees; IDP Internally displaced people; horror; etc. https://t.co/rqWuoy1fm4\n",
      "\n",
      "5 He came to a land which was engulfed in tribal war and turned it into a land of peace i.e. Madinah. #ProphetMuhammad #islam\n",
      "\n",
      "6 Who is bringing the tornadoes and floods. Who is bringing the climate change. God is after America He is plaguing her\n",
      " \n",
      "#FARRAKHAN #QUOTE\n",
      "\n",
      "7 #foodscare #offers2go #NestleIndia slips into loss after #Magginoodle #ban unsafe and hazardous for #humanconsumption\n",
      "\n",
      "8 Caution: breathing may be hazardous to your health.\n",
      "\n",
      "9 The Prophet (peace be upon him) said 'Save yourself from Hellfire even if it is by giving half a date in charity.'\n",
      "\n",
      "10 Hellfire is surrounded by desires so be careful and donÛªt let your desires control you! #Afterlife\n",
      "\n",
      "11 #Allah describes piling up #wealth thinking it would last #forever as the description of the people of #Hellfire in Surah Humaza. #Reflect\n",
      "\n",
      "12 Hellfire! We donÛªt even want to think about it or mention it so letÛªs not do anything that leads to it #islam!\n",
      "\n",
      "13 RT NotExplained: The only known image of infamous hijacker D.B. Cooper. http://t.co/JlzK2HdeTG\n",
      "\n",
      "14 CLEARED:incident with injury:I-495  inner loop Exit 31 - MD 97/Georgia Ave Silver Spring\n",
      "\n",
      "15 wowo--=== 12000 Nigerian refugees repatriated from Cameroon\n",
      "\n",
      "16 that horrible sinking feeling when youÛªve been at home on your phone for a while and you realise its been on 3G this whole time\n",
      "\n",
      "17 In #islam saving a person is equal in reward to saving all humans! Islam is the opposite of terrorism!\n",
      "\n"
     ]
    }
   ],
   "source": [
    "count = -1\n",
    "for t in diff['text']:\n",
    "    count += 1\n",
    "    print(count, t)\n",
    "    print() # 14, 15 may be disasters?"
   ]
  },
  {
   "cell_type": "code",
   "execution_count": 423,
   "id": "e96524a8",
   "metadata": {
    "scrolled": true
   },
   "outputs": [
    {
     "name": "stderr",
     "output_type": "stream",
     "text": [
      "/var/folders/sr/8lz8yzn95qn4jm7df6mwv7lw0000gn/T/ipykernel_29946/1965322284.py:2: SettingWithCopyWarning: \n",
      "A value is trying to be set on a copy of a slice from a DataFrame.\n",
      "Try using .loc[row_indexer,col_indexer] = value instead\n",
      "\n",
      "See the caveats in the documentation: https://pandas.pydata.org/pandas-docs/stable/user_guide/indexing.html#returning-a-view-versus-a-copy\n",
      "  diff['relabels']  = relabels\n",
      "/var/folders/sr/8lz8yzn95qn4jm7df6mwv7lw0000gn/T/ipykernel_29946/1965322284.py:4: SettingWithCopyWarning: \n",
      "A value is trying to be set on a copy of a slice from a DataFrame.\n",
      "Try using .loc[row_indexer,col_indexer] = value instead\n",
      "\n",
      "See the caveats in the documentation: https://pandas.pydata.org/pandas-docs/stable/user_guide/indexing.html#returning-a-view-versus-a-copy\n",
      "  df_dup_rev['relabels'] = diff['relabels']\n"
     ]
    },
    {
     "data": {
      "text/html": [
       "<div>\n",
       "<style scoped>\n",
       "    .dataframe tbody tr th:only-of-type {\n",
       "        vertical-align: middle;\n",
       "    }\n",
       "\n",
       "    .dataframe tbody tr th {\n",
       "        vertical-align: top;\n",
       "    }\n",
       "\n",
       "    .dataframe thead th {\n",
       "        text-align: right;\n",
       "    }\n",
       "</style>\n",
       "<table border=\"1\" class=\"dataframe\">\n",
       "  <thead>\n",
       "    <tr style=\"text-align: right;\">\n",
       "      <th></th>\n",
       "      <th>text</th>\n",
       "      <th>targets</th>\n",
       "      <th>targets_set</th>\n",
       "      <th>relabels</th>\n",
       "    </tr>\n",
       "  </thead>\n",
       "  <tbody>\n",
       "    <tr>\n",
       "      <th>4</th>\n",
       "      <td>To fight bioterrorism sir.</td>\n",
       "      <td>[1, 0, 1, 0]</td>\n",
       "      <td>{0, 1}</td>\n",
       "      <td>0</td>\n",
       "    </tr>\n",
       "    <tr>\n",
       "      <th>7</th>\n",
       "      <td>Mmmmmm I'm burning.... I'm burning buildings I...</td>\n",
       "      <td>[1, 0]</td>\n",
       "      <td>{0, 1}</td>\n",
       "      <td>0</td>\n",
       "    </tr>\n",
       "    <tr>\n",
       "      <th>13</th>\n",
       "      <td>I Pledge Allegiance To The P.O.P.E. And The Bu...</td>\n",
       "      <td>[0, 1]</td>\n",
       "      <td>{0, 1}</td>\n",
       "      <td>0</td>\n",
       "    </tr>\n",
       "    <tr>\n",
       "      <th>14</th>\n",
       "      <td>like for the music video I want some real acti...</td>\n",
       "      <td>[1, 0]</td>\n",
       "      <td>{0, 1}</td>\n",
       "      <td>0</td>\n",
       "    </tr>\n",
       "    <tr>\n",
       "      <th>30</th>\n",
       "      <td>.POTUS #StrategicPatience is a strategy for #G...</td>\n",
       "      <td>[1, 1, 0, 1]</td>\n",
       "      <td>{0, 1}</td>\n",
       "      <td>0</td>\n",
       "    </tr>\n",
       "    <tr>\n",
       "      <th>34</th>\n",
       "      <td>He came to a land which was engulfed in tribal...</td>\n",
       "      <td>[0, 1, 1, 0, 0, 0]</td>\n",
       "      <td>{0, 1}</td>\n",
       "      <td>0</td>\n",
       "    </tr>\n",
       "    <tr>\n",
       "      <th>40</th>\n",
       "      <td>Who is bringing the tornadoes and floods. Who ...</td>\n",
       "      <td>[1, 0, 0]</td>\n",
       "      <td>{0, 1}</td>\n",
       "      <td>0</td>\n",
       "    </tr>\n",
       "    <tr>\n",
       "      <th>41</th>\n",
       "      <td>#foodscare #offers2go #NestleIndia slips into ...</td>\n",
       "      <td>[1, 1, 0]</td>\n",
       "      <td>{0, 1}</td>\n",
       "      <td>0</td>\n",
       "    </tr>\n",
       "    <tr>\n",
       "      <th>42</th>\n",
       "      <td>Caution: breathing may be hazardous to your he...</td>\n",
       "      <td>[1, 0]</td>\n",
       "      <td>{0, 1}</td>\n",
       "      <td>0</td>\n",
       "    </tr>\n",
       "    <tr>\n",
       "      <th>43</th>\n",
       "      <td>The Prophet (peace be upon him) said 'Save you...</td>\n",
       "      <td>[0, 0, 1, 0, 0, 1]</td>\n",
       "      <td>{0, 1}</td>\n",
       "      <td>0</td>\n",
       "    </tr>\n",
       "    <tr>\n",
       "      <th>44</th>\n",
       "      <td>Hellfire is surrounded by desires so be carefu...</td>\n",
       "      <td>[0, 1, 0]</td>\n",
       "      <td>{0, 1}</td>\n",
       "      <td>0</td>\n",
       "    </tr>\n",
       "    <tr>\n",
       "      <th>46</th>\n",
       "      <td>#Allah describes piling up #wealth thinking it...</td>\n",
       "      <td>[0, 0, 1]</td>\n",
       "      <td>{0, 1}</td>\n",
       "      <td>0</td>\n",
       "    </tr>\n",
       "    <tr>\n",
       "      <th>49</th>\n",
       "      <td>Hellfire! We donÛªt even want to think about ...</td>\n",
       "      <td>[0, 1]</td>\n",
       "      <td>{0, 1}</td>\n",
       "      <td>0</td>\n",
       "    </tr>\n",
       "    <tr>\n",
       "      <th>51</th>\n",
       "      <td>RT NotExplained: The only known image of infam...</td>\n",
       "      <td>[0, 1]</td>\n",
       "      <td>{0, 1}</td>\n",
       "      <td>0</td>\n",
       "    </tr>\n",
       "    <tr>\n",
       "      <th>52</th>\n",
       "      <td>CLEARED:incident with injury:I-495  inner loop...</td>\n",
       "      <td>[1, 1, 0]</td>\n",
       "      <td>{0, 1}</td>\n",
       "      <td>1</td>\n",
       "    </tr>\n",
       "    <tr>\n",
       "      <th>56</th>\n",
       "      <td>wowo--=== 12000 Nigerian refugees repatriated ...</td>\n",
       "      <td>[1, 0]</td>\n",
       "      <td>{0, 1}</td>\n",
       "      <td>1</td>\n",
       "    </tr>\n",
       "    <tr>\n",
       "      <th>60</th>\n",
       "      <td>that horrible sinking feeling when youÛªve be...</td>\n",
       "      <td>[1, 0, 0, 1]</td>\n",
       "      <td>{0, 1}</td>\n",
       "      <td>0</td>\n",
       "    </tr>\n",
       "    <tr>\n",
       "      <th>63</th>\n",
       "      <td>In #islam saving a person is equal in reward t...</td>\n",
       "      <td>[0, 1]</td>\n",
       "      <td>{0, 1}</td>\n",
       "      <td>0</td>\n",
       "    </tr>\n",
       "  </tbody>\n",
       "</table>\n",
       "</div>"
      ],
      "text/plain": [
       "                                                 text             targets  \\\n",
       "4                          To fight bioterrorism sir.        [1, 0, 1, 0]   \n",
       "7   Mmmmmm I'm burning.... I'm burning buildings I...              [1, 0]   \n",
       "13  I Pledge Allegiance To The P.O.P.E. And The Bu...              [0, 1]   \n",
       "14  like for the music video I want some real acti...              [1, 0]   \n",
       "30  .POTUS #StrategicPatience is a strategy for #G...        [1, 1, 0, 1]   \n",
       "34  He came to a land which was engulfed in tribal...  [0, 1, 1, 0, 0, 0]   \n",
       "40  Who is bringing the tornadoes and floods. Who ...           [1, 0, 0]   \n",
       "41  #foodscare #offers2go #NestleIndia slips into ...           [1, 1, 0]   \n",
       "42  Caution: breathing may be hazardous to your he...              [1, 0]   \n",
       "43  The Prophet (peace be upon him) said 'Save you...  [0, 0, 1, 0, 0, 1]   \n",
       "44  Hellfire is surrounded by desires so be carefu...           [0, 1, 0]   \n",
       "46  #Allah describes piling up #wealth thinking it...           [0, 0, 1]   \n",
       "49  Hellfire! We donÛªt even want to think about ...              [0, 1]   \n",
       "51  RT NotExplained: The only known image of infam...              [0, 1]   \n",
       "52  CLEARED:incident with injury:I-495  inner loop...           [1, 1, 0]   \n",
       "56  wowo--=== 12000 Nigerian refugees repatriated ...              [1, 0]   \n",
       "60  that horrible sinking feeling when youÛªve be...        [1, 0, 0, 1]   \n",
       "63  In #islam saving a person is equal in reward t...              [0, 1]   \n",
       "\n",
       "   targets_set  relabels  \n",
       "4       {0, 1}         0  \n",
       "7       {0, 1}         0  \n",
       "13      {0, 1}         0  \n",
       "14      {0, 1}         0  \n",
       "30      {0, 1}         0  \n",
       "34      {0, 1}         0  \n",
       "40      {0, 1}         0  \n",
       "41      {0, 1}         0  \n",
       "42      {0, 1}         0  \n",
       "43      {0, 1}         0  \n",
       "44      {0, 1}         0  \n",
       "46      {0, 1}         0  \n",
       "49      {0, 1}         0  \n",
       "51      {0, 1}         0  \n",
       "52      {0, 1}         1  \n",
       "56      {0, 1}         1  \n",
       "60      {0, 1}         0  \n",
       "63      {0, 1}         0  "
      ]
     },
     "execution_count": 423,
     "metadata": {},
     "output_type": "execute_result"
    }
   ],
   "source": [
    "relabels = [ 1 if ind in [14,15] else 0 for ind in np.arange(len(diff))]\n",
    "diff['relabels']  = relabels\n",
    "df_dup_rev = df_dup.iloc[diff.index]\n",
    "df_dup_rev['relabels'] = diff['relabels']\n",
    "df_dup_rev"
   ]
  },
  {
   "cell_type": "code",
   "execution_count": 424,
   "id": "cdd8e5f7",
   "metadata": {
    "scrolled": true
   },
   "outputs": [
    {
     "name": "stderr",
     "output_type": "stream",
     "text": [
      "/var/folders/sr/8lz8yzn95qn4jm7df6mwv7lw0000gn/T/ipykernel_29946/3795622803.py:3: SettingWithCopyWarning: \n",
      "A value is trying to be set on a copy of a slice from a DataFrame\n",
      "\n",
      "See the caveats in the documentation: https://pandas.pydata.org/pandas-docs/stable/user_guide/indexing.html#returning-a-view-versus-a-copy\n",
      "  train['target'][index] =  target\n",
      "/var/folders/sr/8lz8yzn95qn4jm7df6mwv7lw0000gn/T/ipykernel_29946/3795622803.py:3: SettingWithCopyWarning: \n",
      "A value is trying to be set on a copy of a slice from a DataFrame\n",
      "\n",
      "See the caveats in the documentation: https://pandas.pydata.org/pandas-docs/stable/user_guide/indexing.html#returning-a-view-versus-a-copy\n",
      "  train['target'][index] =  target\n",
      "/var/folders/sr/8lz8yzn95qn4jm7df6mwv7lw0000gn/T/ipykernel_29946/3795622803.py:3: SettingWithCopyWarning: \n",
      "A value is trying to be set on a copy of a slice from a DataFrame\n",
      "\n",
      "See the caveats in the documentation: https://pandas.pydata.org/pandas-docs/stable/user_guide/indexing.html#returning-a-view-versus-a-copy\n",
      "  train['target'][index] =  target\n",
      "/var/folders/sr/8lz8yzn95qn4jm7df6mwv7lw0000gn/T/ipykernel_29946/3795622803.py:3: SettingWithCopyWarning: \n",
      "A value is trying to be set on a copy of a slice from a DataFrame\n",
      "\n",
      "See the caveats in the documentation: https://pandas.pydata.org/pandas-docs/stable/user_guide/indexing.html#returning-a-view-versus-a-copy\n",
      "  train['target'][index] =  target\n",
      "/var/folders/sr/8lz8yzn95qn4jm7df6mwv7lw0000gn/T/ipykernel_29946/3795622803.py:3: SettingWithCopyWarning: \n",
      "A value is trying to be set on a copy of a slice from a DataFrame\n",
      "\n",
      "See the caveats in the documentation: https://pandas.pydata.org/pandas-docs/stable/user_guide/indexing.html#returning-a-view-versus-a-copy\n",
      "  train['target'][index] =  target\n",
      "/var/folders/sr/8lz8yzn95qn4jm7df6mwv7lw0000gn/T/ipykernel_29946/3795622803.py:3: SettingWithCopyWarning: \n",
      "A value is trying to be set on a copy of a slice from a DataFrame\n",
      "\n",
      "See the caveats in the documentation: https://pandas.pydata.org/pandas-docs/stable/user_guide/indexing.html#returning-a-view-versus-a-copy\n",
      "  train['target'][index] =  target\n",
      "/var/folders/sr/8lz8yzn95qn4jm7df6mwv7lw0000gn/T/ipykernel_29946/3795622803.py:3: SettingWithCopyWarning: \n",
      "A value is trying to be set on a copy of a slice from a DataFrame\n",
      "\n",
      "See the caveats in the documentation: https://pandas.pydata.org/pandas-docs/stable/user_guide/indexing.html#returning-a-view-versus-a-copy\n",
      "  train['target'][index] =  target\n",
      "/var/folders/sr/8lz8yzn95qn4jm7df6mwv7lw0000gn/T/ipykernel_29946/3795622803.py:3: SettingWithCopyWarning: \n",
      "A value is trying to be set on a copy of a slice from a DataFrame\n",
      "\n",
      "See the caveats in the documentation: https://pandas.pydata.org/pandas-docs/stable/user_guide/indexing.html#returning-a-view-versus-a-copy\n",
      "  train['target'][index] =  target\n",
      "/var/folders/sr/8lz8yzn95qn4jm7df6mwv7lw0000gn/T/ipykernel_29946/3795622803.py:3: SettingWithCopyWarning: \n",
      "A value is trying to be set on a copy of a slice from a DataFrame\n",
      "\n",
      "See the caveats in the documentation: https://pandas.pydata.org/pandas-docs/stable/user_guide/indexing.html#returning-a-view-versus-a-copy\n",
      "  train['target'][index] =  target\n",
      "/var/folders/sr/8lz8yzn95qn4jm7df6mwv7lw0000gn/T/ipykernel_29946/3795622803.py:3: SettingWithCopyWarning: \n",
      "A value is trying to be set on a copy of a slice from a DataFrame\n",
      "\n",
      "See the caveats in the documentation: https://pandas.pydata.org/pandas-docs/stable/user_guide/indexing.html#returning-a-view-versus-a-copy\n",
      "  train['target'][index] =  target\n",
      "/var/folders/sr/8lz8yzn95qn4jm7df6mwv7lw0000gn/T/ipykernel_29946/3795622803.py:3: SettingWithCopyWarning: \n",
      "A value is trying to be set on a copy of a slice from a DataFrame\n",
      "\n",
      "See the caveats in the documentation: https://pandas.pydata.org/pandas-docs/stable/user_guide/indexing.html#returning-a-view-versus-a-copy\n",
      "  train['target'][index] =  target\n",
      "/var/folders/sr/8lz8yzn95qn4jm7df6mwv7lw0000gn/T/ipykernel_29946/3795622803.py:3: SettingWithCopyWarning: \n",
      "A value is trying to be set on a copy of a slice from a DataFrame\n",
      "\n",
      "See the caveats in the documentation: https://pandas.pydata.org/pandas-docs/stable/user_guide/indexing.html#returning-a-view-versus-a-copy\n",
      "  train['target'][index] =  target\n",
      "/var/folders/sr/8lz8yzn95qn4jm7df6mwv7lw0000gn/T/ipykernel_29946/3795622803.py:3: SettingWithCopyWarning: \n",
      "A value is trying to be set on a copy of a slice from a DataFrame\n",
      "\n",
      "See the caveats in the documentation: https://pandas.pydata.org/pandas-docs/stable/user_guide/indexing.html#returning-a-view-versus-a-copy\n",
      "  train['target'][index] =  target\n",
      "/var/folders/sr/8lz8yzn95qn4jm7df6mwv7lw0000gn/T/ipykernel_29946/3795622803.py:3: SettingWithCopyWarning: \n",
      "A value is trying to be set on a copy of a slice from a DataFrame\n",
      "\n",
      "See the caveats in the documentation: https://pandas.pydata.org/pandas-docs/stable/user_guide/indexing.html#returning-a-view-versus-a-copy\n",
      "  train['target'][index] =  target\n",
      "/var/folders/sr/8lz8yzn95qn4jm7df6mwv7lw0000gn/T/ipykernel_29946/3795622803.py:3: SettingWithCopyWarning: \n",
      "A value is trying to be set on a copy of a slice from a DataFrame\n",
      "\n",
      "See the caveats in the documentation: https://pandas.pydata.org/pandas-docs/stable/user_guide/indexing.html#returning-a-view-versus-a-copy\n",
      "  train['target'][index] =  target\n",
      "/var/folders/sr/8lz8yzn95qn4jm7df6mwv7lw0000gn/T/ipykernel_29946/3795622803.py:3: SettingWithCopyWarning: \n",
      "A value is trying to be set on a copy of a slice from a DataFrame\n",
      "\n",
      "See the caveats in the documentation: https://pandas.pydata.org/pandas-docs/stable/user_guide/indexing.html#returning-a-view-versus-a-copy\n",
      "  train['target'][index] =  target\n",
      "/var/folders/sr/8lz8yzn95qn4jm7df6mwv7lw0000gn/T/ipykernel_29946/3795622803.py:3: SettingWithCopyWarning: \n",
      "A value is trying to be set on a copy of a slice from a DataFrame\n",
      "\n",
      "See the caveats in the documentation: https://pandas.pydata.org/pandas-docs/stable/user_guide/indexing.html#returning-a-view-versus-a-copy\n",
      "  train['target'][index] =  target\n",
      "/var/folders/sr/8lz8yzn95qn4jm7df6mwv7lw0000gn/T/ipykernel_29946/3795622803.py:3: SettingWithCopyWarning: \n",
      "A value is trying to be set on a copy of a slice from a DataFrame\n",
      "\n",
      "See the caveats in the documentation: https://pandas.pydata.org/pandas-docs/stable/user_guide/indexing.html#returning-a-view-versus-a-copy\n",
      "  train['target'][index] =  target\n"
     ]
    },
    {
     "data": {
      "text/html": [
       "<div>\n",
       "<style scoped>\n",
       "    .dataframe tbody tr th:only-of-type {\n",
       "        vertical-align: middle;\n",
       "    }\n",
       "\n",
       "    .dataframe tbody tr th {\n",
       "        vertical-align: top;\n",
       "    }\n",
       "\n",
       "    .dataframe thead th {\n",
       "        text-align: right;\n",
       "    }\n",
       "</style>\n",
       "<table border=\"1\" class=\"dataframe\">\n",
       "  <thead>\n",
       "    <tr style=\"text-align: right;\">\n",
       "      <th></th>\n",
       "      <th>id</th>\n",
       "      <th>keyword</th>\n",
       "      <th>location</th>\n",
       "      <th>text</th>\n",
       "      <th>target</th>\n",
       "    </tr>\n",
       "  </thead>\n",
       "  <tbody>\n",
       "    <tr>\n",
       "      <th>610</th>\n",
       "      <td>881</td>\n",
       "      <td>bioterrorism</td>\n",
       "      <td>NaN</td>\n",
       "      <td>To fight bioterrorism sir.</td>\n",
       "      <td>0</td>\n",
       "    </tr>\n",
       "    <tr>\n",
       "      <th>624</th>\n",
       "      <td>898</td>\n",
       "      <td>bioterrorism</td>\n",
       "      <td>NaN</td>\n",
       "      <td>To fight bioterrorism sir.</td>\n",
       "      <td>0</td>\n",
       "    </tr>\n",
       "    <tr>\n",
       "      <th>630</th>\n",
       "      <td>907</td>\n",
       "      <td>bioterrorism</td>\n",
       "      <td>NaN</td>\n",
       "      <td>To fight bioterrorism sir.</td>\n",
       "      <td>0</td>\n",
       "    </tr>\n",
       "    <tr>\n",
       "      <th>634</th>\n",
       "      <td>916</td>\n",
       "      <td>bioterrorism</td>\n",
       "      <td>NaN</td>\n",
       "      <td>To fight bioterrorism sir.</td>\n",
       "      <td>0</td>\n",
       "    </tr>\n",
       "  </tbody>\n",
       "</table>\n",
       "</div>"
      ],
      "text/plain": [
       "      id       keyword location                        text  target\n",
       "610  881  bioterrorism      NaN  To fight bioterrorism sir.       0\n",
       "624  898  bioterrorism      NaN  To fight bioterrorism sir.       0\n",
       "630  907  bioterrorism      NaN  To fight bioterrorism sir.       0\n",
       "634  916  bioterrorism      NaN  To fight bioterrorism sir.       0"
      ]
     },
     "execution_count": 424,
     "metadata": {},
     "output_type": "execute_result"
    }
   ],
   "source": [
    "for text, target in zip(df_dup_rev['text'], df_dup_rev['relabels']):\n",
    "    index = [ind for ind in train.index[train['text'] == text]]\n",
    "    train['target'][index] =  target  \n",
    "\n",
    "train[train['text'] == 'To fight bioterrorism sir.'] ## Replaced inconsistent target values with the consistent labels"
   ]
  },
  {
   "cell_type": "code",
   "execution_count": 425,
   "id": "7cc2d378",
   "metadata": {},
   "outputs": [
    {
     "data": {
      "text/plain": [
       "7503"
      ]
     },
     "execution_count": 425,
     "metadata": {},
     "output_type": "execute_result"
    }
   ],
   "source": [
    "train = train.drop_duplicates(subset=['text'], keep='first') ## Keep the first obs among the duplicates\n",
    "len(train) ## Dropped around 110 observation that are duplicates"
   ]
  },
  {
   "cell_type": "markdown",
   "id": "127bdeed",
   "metadata": {},
   "source": [
    "## Create a WordCloud to see what kinds of Keywords are associated with a disaster"
   ]
  },
  {
   "cell_type": "code",
   "execution_count": 426,
   "id": "0f726b38",
   "metadata": {},
   "outputs": [
    {
     "data": {
      "text/plain": [
       "10789"
      ]
     },
     "execution_count": 426,
     "metadata": {},
     "output_type": "execute_result"
    }
   ],
   "source": [
    "data_key = data.dropna(subset=['keyword']).reset_index()\n",
    "len(data_key['keyword'])"
   ]
  },
  {
   "cell_type": "code",
   "execution_count": 427,
   "id": "98e1df46",
   "metadata": {},
   "outputs": [],
   "source": [
    "train_key = train.dropna(subset=['keyword']).reset_index()\n",
    "\n",
    "disaster = train_key[train_key['target']==1]\n",
    "non_disaster = train_key[train_key['target']==0]"
   ]
  },
  {
   "cell_type": "code",
   "execution_count": 428,
   "id": "898f4677",
   "metadata": {
    "scrolled": true
   },
   "outputs": [],
   "source": [
    "from wordcloud import WordCloud\n",
    "keywords_one = ' '.join(disaster['keyword'].tolist())\n",
    "wordcloud = WordCloud(colormap = 'prism', background_color='black',relative_scaling=1)\n",
    "wordcloudImage = wordcloud.generate(keywords_one )\n",
    "\n",
    "wordcloudFile = wordcloudImage.to_file('keywords.png')"
   ]
  },
  {
   "cell_type": "code",
   "execution_count": 429,
   "id": "07b3eaad",
   "metadata": {},
   "outputs": [
    {
     "data": {
      "text/plain": [
       "<matplotlib.image.AxesImage at 0x298c71a00>"
      ]
     },
     "execution_count": 429,
     "metadata": {},
     "output_type": "execute_result"
    },
    {
     "data": {
      "image/png": "[encoded data removed]",
      "text/plain": [
       "<Figure size 1080x1080 with 1 Axes>"
      ]
     },
     "metadata": {
      "needs_background": "light"
     },
     "output_type": "display_data"
    }
   ],
   "source": [
    "from PIL import Image\n",
    "import matplotlib.pyplot as plt\n",
    "\n",
    "im = Image.open('keywords.png')\n",
    "fig,aux = plt.subplots(figsize=(15,15))\n",
    "aux.imshow(im)"
   ]
  },
  {
   "cell_type": "markdown",
   "id": "3beca260",
   "metadata": {},
   "source": [
    "### Latent Semantic Analysis/Bag-Of-Words/ Tf-IDf\n",
    "GPT3 may be the best model?"
   ]
  },
  {
   "cell_type": "markdown",
   "id": "abbd31c9",
   "metadata": {},
   "source": [
    "# 2. Text Preprocessing"
   ]
  },
  {
   "cell_type": "code",
   "execution_count": 430,
   "id": "648b60c7",
   "metadata": {},
   "outputs": [
    {
     "name": "stderr",
     "output_type": "stream",
     "text": [
      "[nltk_data] Downloading package stopwords to\n",
      "[nltk_data]     /Users/kazutoki.matsui/nltk_data...\n",
      "[nltk_data]   Package stopwords is already up-to-date!\n"
     ]
    }
   ],
   "source": [
    "import re\n",
    "import string\n",
    "from nltk.tokenize import TweetTokenizer\n",
    "from nltk.stem import PorterStemmer\n",
    "\n",
    "nltk.download('stopwords')\n",
    "stopwords = nltk.corpus.stopwords.words('english')\n",
    "ps = PorterStemmer()"
   ]
  },
  {
   "cell_type": "code",
   "execution_count": 432,
   "id": "ecdab3f2",
   "metadata": {
    "scrolled": false
   },
   "outputs": [],
   "source": [
    "# def text_cleaner(text):\n",
    "#     '''\n",
    "#     Input: list of texts, e.g. train['text']\n",
    "#     Output: list of cleaned texts tokenized, e.g. [['our', 'deeds', 'are', 'the',...],..]\n",
    "#     '''\n",
    "#     ## Remove URLs as this may be irrelevan to judge the target\n",
    "#     txt_no_url  = re.sub(r'http\\S+', '', text)\n",
    "\n",
    "#     ## Remove punctuations\n",
    "#     txt_nopunct = \"\".join([w for w in txt_no_url if w not in string.punctuation])\n",
    "    \n",
    "#     ## Tokenize the tweets\n",
    "#     txt_tokenized  = re.split('\\W+', txt_nopunct.lower())\n",
    "\n",
    "#     ## Remove stop words\n",
    "#     txt_nonstop = [word for word in txt_tokenized if word not in stopwords]\n",
    "    \n",
    "#     ## Stemming\n",
    "#     txt_clean = [ ps.stem(word) for word in txt_nonstop ]\n",
    "    \n",
    "#     return txt_clean\n",
    "\n",
    "# train['cleaned_text'] = train['text'].apply(lambda x: text_cleaner(x)) ## Cleaned texts in training set\n",
    "# train['cleaned_text']"
   ]
  },
  {
   "cell_type": "code",
   "execution_count": 433,
   "id": "3769b466",
   "metadata": {},
   "outputs": [
    {
     "data": {
      "text/plain": [
       "0            deeds reason earthquake may allah forgive us\n",
       "1                   forest fire near la ronge sask canada\n",
       "2       residents asked shelter place notified officer...\n",
       "3       13 000 people receive wildfires evacuation ord...\n",
       "4       got sent photo ruby alaska smoke wildfires pou...\n",
       "                              ...                        \n",
       "7604     worldnews fallen powerlines g link tram updat...\n",
       "7605    flip side walmart bomb everyone evacuate stay ...\n",
       "7606    suicide bomber kills 15 saudi security site mo...\n",
       "7608    two giant cranes holding bridge collapse nearb...\n",
       "7612    latest homes razed northern california wildfir...\n",
       "Name: cleaned_text, Length: 7503, dtype: object"
      ]
     },
     "execution_count": 433,
     "metadata": {},
     "output_type": "execute_result"
    }
   ],
   "source": [
    "def text_cleaner(text):\n",
    "    '''\n",
    "    Input: str, raw text e.g. 'This is a wonderful #tweet!'\n",
    "    Output: str, cleaned text e.g. 'wonderful tweet'\n",
    "    '''\n",
    "    ## Remove URLs as this may be irrelevan to judge the target\n",
    "    txt_no_url  = re.sub(r'http\\S+', '', text)\n",
    "\n",
    "    ## Remove punctuations\n",
    "    txt_nopunct = \"\".join([w for w in txt_no_url if w not in string.punctuation])\n",
    "    \n",
    "    ## Remove Emoji\n",
    "    emoji_pattern = re.compile(\"[\"\n",
    "                               u\"\\U0001F600-\\U0001F64F\"  # emoticons\n",
    "                               u\"\\U0001F300-\\U0001F5FF\"  # symbols & pictographs\n",
    "                               u\"\\U0001F680-\\U0001F6FF\"  # transport & map symbols\n",
    "                               u\"\\U0001F1E0-\\U0001F1FF\"  # flags (iOS)\n",
    "                               u\"\\U00002702-\\U000027B0\"\n",
    "                               u\"\\U000024C2-\\U0001F251\"\n",
    "                               \"]+\", flags=re.UNICODE)\n",
    "    txt_noemoji = emoji_pattern.sub(r'', text)\n",
    "    \n",
    "    # Remove HTML etc.\n",
    "    html = re.compile(r'<.*?>')\n",
    "    txt_nohtlm = html.sub(r'',text)\n",
    "    \n",
    "    ## Tokenize the tweets\n",
    "    txt_tokenized  = re.split('\\W+', txt_nohtlm.lower())\n",
    "\n",
    "    ## Remove stop words\n",
    "    txt_nostop= [word for word in  txt_tokenized if word not in stopwords]\n",
    "    \n",
    "#     ## Stemming\n",
    "    txt_clean = [ ps.stem(word) for word in txt_nostop ]\n",
    "    \n",
    "    txt_clean = \" \".join([w for w in txt_nostop])\n",
    "    \n",
    "    return txt_clean\n",
    "\n",
    "train['cleaned_text'] = train['text'].apply(lambda x: text_cleaner(x)) ## Cleaned texts in training set\n",
    "train['cleaned_text']"
   ]
  },
  {
   "cell_type": "code",
   "execution_count": 434,
   "id": "2a0c5c24",
   "metadata": {
    "scrolled": true
   },
   "outputs": [
    {
     "data": {
      "text/plain": [
       "0                             happened terrible car crash\n",
       "1       heard earthquake different cities stay safe ev...\n",
       "2       forest fire spot pond geese fleeing across str...\n",
       "3                   apocalypse lighting spokane wildfires\n",
       "4                  typhoon soudelor kills 28 china taiwan\n",
       "                              ...                        \n",
       "3258    earthquake safety los angeles ûò safety fasten...\n",
       "3259    storm ri worse last hurricane city amp 3others...\n",
       "3260     green line derailment chicago http co utbxlcbiuy\n",
       "3261    meg issues hazardous weather outlook hwo http ...\n",
       "3262     cityofcalgary activated municipal emergency p...\n",
       "Name: cleaned_text, Length: 3263, dtype: object"
      ]
     },
     "execution_count": 434,
     "metadata": {},
     "output_type": "execute_result"
    }
   ],
   "source": [
    "## Do the same preprocessing to the testing set\n",
    "test['cleaned_text'] = test['text'].apply(lambda x: text_cleaner(x)) ## Cleaned texts in training set\n",
    "test['cleaned_text']"
   ]
  },
  {
   "cell_type": "markdown",
   "id": "e111d85c",
   "metadata": {},
   "source": [
    "# 3. Vectorization"
   ]
  },
  {
   "cell_type": "markdown",
   "id": "9a385a67",
   "metadata": {},
   "source": [
    "## Bag-Of-Words"
   ]
  },
  {
   "cell_type": "code",
   "execution_count": 435,
   "id": "c009d530",
   "metadata": {},
   "outputs": [],
   "source": [
    "from sklearn.feature_extraction.text import CountVectorizer,TfidfVectorizer\n",
    "from sklearn.decomposition import TruncatedSVD\n",
    "np.set_printoptions(precision=4, suppress=True)\n",
    "from sklearn.feature_extraction.text import TfidfTransformer"
   ]
  },
  {
   "cell_type": "code",
   "execution_count": 436,
   "id": "9d4d751a",
   "metadata": {},
   "outputs": [],
   "source": [
    "#Credit: https://www.kaggle.com/vbmokin/nlp-eda-bag-of-words-tf-idf-glove-bert/notebook\n",
    "def cv(data):\n",
    "    count_vectorizer = CountVectorizer()\n",
    "\n",
    "    emb = count_vectorizer.fit_transform(data)\n",
    "\n",
    "    return emb, count_vectorizer"
   ]
  },
  {
   "cell_type": "code",
   "execution_count": 437,
   "id": "560ad709",
   "metadata": {
    "scrolled": true
   },
   "outputs": [],
   "source": [
    "## Create a corpus to pass \n",
    "list_corpus_train = np.array(train['cleaned_text']).tolist()\n",
    "list_corpus_test = np.array(test['cleaned_text']).tolist()\n",
    "list_labels = train[\"target\"].tolist()\n",
    "\n",
    "X_train_counts, count_vectorizer = cv( list_corpus_train )\n",
    "X_test_counts = count_vectorizer.transform(list_corpus_test)\n",
    "# print(X_train_counts, count_vectorizer)"
   ]
  },
  {
   "cell_type": "markdown",
   "id": "5eac2fd8",
   "metadata": {},
   "source": [
    "## TF-IDF"
   ]
  },
  {
   "cell_type": "code",
   "execution_count": 438,
   "id": "300a3e86",
   "metadata": {
    "scrolled": true
   },
   "outputs": [
    {
     "data": {
      "text/plain": [
       "<7503x21498 sparse matrix of type '<class 'numpy.float64'>'\n",
       "\twith 80593 stored elements in Compressed Sparse Row format>"
      ]
     },
     "execution_count": 438,
     "metadata": {},
     "output_type": "execute_result"
    }
   ],
   "source": [
    "def tfidf(data):\n",
    "    tfidf_vectorizer = TfidfVectorizer()\n",
    "\n",
    "    train = tfidf_vectorizer.fit_transform(data)\n",
    "\n",
    "    return train, tfidf_vectorizer\n",
    "\n",
    "X_train_tfidf, tfidf_vectorizer = tfidf(list_corpus_train)\n",
    "X_test_tfidf = tfidf_vectorizer.transform(list_corpus_test)\n",
    "X_train_tfidf"
   ]
  },
  {
   "cell_type": "markdown",
   "id": "3285b403",
   "metadata": {},
   "source": [
    "## Glove"
   ]
  },
  {
   "cell_type": "code",
   "execution_count": 447,
   "id": "8408bf12",
   "metadata": {},
   "outputs": [
    {
     "data": {
      "text/plain": [
       "21550"
      ]
     },
     "execution_count": 447,
     "metadata": {},
     "output_type": "execute_result"
    }
   ],
   "source": [
    "# Calculate the length of our vocabulary\n",
    "word_tokenizer = Tokenizer()\n",
    "word_tokenizer.fit_on_texts(list_corpus_train)\n",
    "\n",
    "vocab_length = len(word_tokenizer.word_index) + 1\n",
    "vocab_length"
   ]
  },
  {
   "cell_type": "markdown",
   "id": "8e67b727",
   "metadata": {},
   "source": [
    "# 4. Modelling"
   ]
  },
  {
   "cell_type": "markdown",
   "id": "28226f93",
   "metadata": {},
   "source": [
    "## Naive Bayes"
   ]
  },
  {
   "cell_type": "code",
   "execution_count": 439,
   "id": "f5ac24dc",
   "metadata": {},
   "outputs": [
    {
     "data": {
      "text/plain": [
       "MultinomialNB()"
      ]
     },
     "execution_count": 439,
     "metadata": {},
     "output_type": "execute_result"
    }
   ],
   "source": [
    "# Create a Multinomial Naive Bayes model\n",
    "from sklearn.naive_bayes import MultinomialNB\n",
    "nb = MultinomialNB()\n",
    "\n",
    "# Train the model\n",
    "nb.fit(X_train_counts, list_labels)"
   ]
  },
  {
   "cell_type": "code",
   "execution_count": 440,
   "id": "fc01c1ee",
   "metadata": {},
   "outputs": [
    {
     "data": {
      "text/plain": [
       "array([1, 1, 1, 1, 1, 1, 0, 0, 0, 0, 0, 0, 0, 0, 0, 1, 0, 1, 0, 0])"
      ]
     },
     "execution_count": 440,
     "metadata": {},
     "output_type": "execute_result"
    }
   ],
   "source": [
    "# Make class anf probability predictions\n",
    "y_pred_class = nb.predict(X_test_counts)\n",
    "# y_pred_prob = nb.predict_proba(X_test_counts)[:, 1]\n",
    "y_pred_class[:20] "
   ]
  },
  {
   "cell_type": "code",
   "execution_count": 441,
   "id": "56ad0e9d",
   "metadata": {
    "scrolled": true
   },
   "outputs": [
    {
     "data": {
      "text/plain": [
       "{0: 2031, 1: 1232}"
      ]
     },
     "execution_count": 441,
     "metadata": {},
     "output_type": "execute_result"
    }
   ],
   "source": [
    "unique, counts = np.unique(y_pred_class, return_counts=True)\n",
    "dict(zip(unique, counts))"
   ]
  },
  {
   "cell_type": "code",
   "execution_count": 442,
   "id": "72e33e55",
   "metadata": {},
   "outputs": [],
   "source": [
    "## Submission preparation for BOW\n",
    "sample_submission = pd.read_csv(\"./data/sample_submission.csv\")\n",
    "sample_submission[\"target\"] = y_pred_class\n",
    "sample_submission.to_csv(\"sub_bow.csv\", index=False)"
   ]
  },
  {
   "cell_type": "code",
   "execution_count": 443,
   "id": "db74d384",
   "metadata": {},
   "outputs": [
    {
     "data": {
      "text/plain": [
       "array([1, 0, 1, 1, 1, 1, 0, 0, 0, 0, 0, 0, 0, 0, 0, 1, 0, 1, 0, 0])"
      ]
     },
     "execution_count": 443,
     "metadata": {},
     "output_type": "execute_result"
    }
   ],
   "source": [
    "# Train the model with TF-IDF vector\n",
    "nb.fit(X_train_tfidf, list_labels)\n",
    "y_pred_class = nb.predict(X_test_tfidf)\n",
    "y_pred_class[:20] "
   ]
  },
  {
   "cell_type": "code",
   "execution_count": 444,
   "id": "ec1f879a",
   "metadata": {},
   "outputs": [
    {
     "data": {
      "text/plain": [
       "{0: 2234, 1: 1029}"
      ]
     },
     "execution_count": 444,
     "metadata": {},
     "output_type": "execute_result"
    }
   ],
   "source": [
    "unique, counts = np.unique(y_pred_class, return_counts=True)\n",
    "dict(zip(unique, counts))"
   ]
  },
  {
   "cell_type": "code",
   "execution_count": 445,
   "id": "46ca3e35",
   "metadata": {},
   "outputs": [],
   "source": [
    "## Submission preparation for TF-IDF\n",
    "sample_submission = pd.read_csv(\"./data/sample_submission.csv\")\n",
    "sample_submission[\"target\"] = y_pred_class\n",
    "sample_submission.to_csv(\"sub_tfidf.csv\", index=False)"
   ]
  },
  {
   "cell_type": "code",
   "execution_count": null,
   "id": "5f0b241c",
   "metadata": {},
   "outputs": [],
   "source": []
  },
  {
   "cell_type": "code",
   "execution_count": null,
   "id": "dab6d165",
   "metadata": {},
   "outputs": [],
   "source": []
  },
  {
   "cell_type": "code",
   "execution_count": null,
   "id": "d3f22d26",
   "metadata": {},
   "outputs": [],
   "source": []
  },
  {
   "cell_type": "code",
   "execution_count": null,
   "id": "4b614698",
   "metadata": {},
   "outputs": [],
   "source": []
  },
  {
   "cell_type": "markdown",
   "id": "bee2f50c",
   "metadata": {},
   "source": [
    "## Backend trials"
   ]
  },
  {
   "cell_type": "code",
   "execution_count": 363,
   "id": "0f7d3187",
   "metadata": {},
   "outputs": [],
   "source": [
    "# Reference : https://gist.github.com/slowkow/7a7f61f495e3dbb7e3d767f97bd7304b\n",
    "def remove_emoji(text):\n",
    "    emoji_pattern = re.compile(\"[\"\n",
    "                           u\"\\U0001F600-\\U0001F64F\"  # emoticons\n",
    "                           u\"\\U0001F300-\\U0001F5FF\"  # symbols & pictographs\n",
    "                           u\"\\U0001F680-\\U0001F6FF\"  # transport & map symbols\n",
    "                           u\"\\U0001F1E0-\\U0001F1FF\"  # flags (iOS)\n",
    "                           u\"\\U00002702-\\U000027B0\"\n",
    "                           u\"\\U000024C2-\\U0001F251\"\n",
    "                           \"]+\", flags=re.UNICODE)\n",
    "    return emoji_pattern.sub(r'', text)"
   ]
  },
  {
   "cell_type": "code",
   "execution_count": 319,
   "id": "58f89e4e",
   "metadata": {
    "scrolled": true
   },
   "outputs": [
    {
     "data": {
      "text/plain": [
       "0            deed reason earthquak may allah forgiv us\n",
       "1                 forest fire near la rong sask canada\n",
       "2    resid ask shelter place notifi offic evacu she...\n",
       "3    13000 peopl receiv wildfir evacu order california\n",
       "4    got sent photo rubi alaska smoke wildfir pour ...\n",
       "5    rockyfir updat california hwi 20 close direct ...\n",
       "6    flood disast heavi rain caus flash flood stree...\n",
       "7                            im top hill see fire wood\n",
       "8         there emerg evacu happen build across street\n",
       "9                          im afraid tornado come area\n",
       "Name: text_punkt, dtype: object"
      ]
     },
     "execution_count": 319,
     "metadata": {},
     "output_type": "execute_result"
    }
   ],
   "source": [
    "import string\n",
    "## remove punctuations\n",
    "def remove_punct(txt):\n",
    "  txt_nopunct = \" \".join([c for c in txt if c not in string.punctuation])\n",
    "  return txt_nopunct\n",
    "\n",
    "train['text_punkt'] = [remove_punct(c) for c in corpus]\n",
    "train['text_punkt'][:10]"
   ]
  },
  {
   "cell_type": "code",
   "execution_count": 320,
   "id": "48bc9e24",
   "metadata": {},
   "outputs": [
    {
     "data": {
      "text/plain": [
       "0       [deed, reason, earthquak, may, allah, forgiv, us]\n",
       "1            [forest, fire, near, la, rong, sask, canada]\n",
       "2       [resid, ask, shelter, place, notifi, offic, ev...\n",
       "3       [13000, peopl, receiv, wildfir, evacu, order, ...\n",
       "4       [got, sent, photo, rubi, alaska, smoke, wildfi...\n",
       "                              ...                        \n",
       "7604    [worldnew, fallen, powerlin, glink, tram, upda...\n",
       "7605    [flip, side, im, walmart, bomb, everyon, evacu...\n",
       "7606    [suicid, bomber, kill, 15, saudi, secur, site,...\n",
       "7608    [two, giant, crane, hold, bridg, collaps, near...\n",
       "7612    [latest, home, raze, northern, california, wil...\n",
       "Name: text_tokenized, Length: 7503, dtype: object"
      ]
     },
     "execution_count": 320,
     "metadata": {},
     "output_type": "execute_result"
    }
   ],
   "source": [
    "from nltk.tokenize import TweetTokenizer \n",
    "\n",
    "tknzr = TweetTokenizer()\n",
    "# train['text_tokenized'] = [tknzr.tokenize(t) for t in train['text']]\n",
    "\n",
    "train['text_tokenized'] = train['text_punkt'].apply(lambda x: tknzr.tokenize(x.lower()))\n",
    "train['text_tokenized']\n",
    "\n",
    "# import re\n",
    "# ## Tokenize the tweets\n",
    "# def tokenize(txt):\n",
    "#   tokens = re.split('\\W+', txt)\n",
    "#   return tokens\n",
    "\n",
    "# train['text_tokenized'] = train['text'].apply(lambda x: tokenize(x.lower()))\n",
    "# train['text_tokenized']"
   ]
  },
  {
   "cell_type": "code",
   "execution_count": 321,
   "id": "9efb4fb8",
   "metadata": {
    "scrolled": true
   },
   "outputs": [
    {
     "name": "stderr",
     "output_type": "stream",
     "text": [
      "[nltk_data] Downloading package stopwords to\n",
      "[nltk_data]     /Users/kazutoki.matsui/nltk_data...\n",
      "[nltk_data]   Package stopwords is already up-to-date!\n"
     ]
    },
    {
     "data": {
      "text/plain": [
       "0    [deed, reason, earthquak, may, allah, forgiv, us]\n",
       "1         [forest, fire, near, la, rong, sask, canada]\n",
       "2    [resid, ask, shelter, place, notifi, offic, ev...\n",
       "3    [13000, peopl, receiv, wildfir, evacu, order, ...\n",
       "4    [got, sent, photo, rubi, alaska, smoke, wildfi...\n",
       "5    [rockyfir, updat, california, hwi, 20, close, ...\n",
       "6    [flood, disast, heavi, rain, caus, flash, floo...\n",
       "7                     [im, top, hill, see, fire, wood]\n",
       "8        [emerg, evacu, happen, build, across, street]\n",
       "9                    [im, afraid, tornado, come, area]\n",
       "Name: text_tokenized, dtype: object"
      ]
     },
     "execution_count": 321,
     "metadata": {},
     "output_type": "execute_result"
    }
   ],
   "source": [
    "nltk.download('stopwords')\n",
    "stopwords = nltk.corpus.stopwords.words('english')\n",
    "\n",
    "def remove_stopwords(txt_tokenized):\n",
    "  txt_clean = [word for word in txt_tokenized if word not in stopwords]\n",
    "  return txt_clean\n",
    "\n",
    "train['text_tokenized'] = train['text_tokenized'].apply(lambda x: remove_stopwords(x))\n",
    "train['text_tokenized'][:10]"
   ]
  },
  {
   "cell_type": "code",
   "execution_count": null,
   "id": "a495bcf0",
   "metadata": {},
   "outputs": [],
   "source": [
    "from nltk.stem import PorterStemmer\n",
    "## Stemming the tweets\n",
    "ps = PorterStemmer()\n",
    "\n",
    "def stemming(tokenized_text):\n",
    "  text = [ps.stem(word) for word in tokenized_text]\n",
    "  return tokenized_text\n",
    "\n",
    "train['text_cleaned'] = train['text_tokenized'].apply(lambda x: stemming(x))\n",
    "train['text_cleaned']"
   ]
  },
  {
   "cell_type": "code",
   "execution_count": null,
   "id": "3ca011be",
   "metadata": {},
   "outputs": [],
   "source": [
    "np.array(train['text_cleaned']).tolist()[0]"
   ]
  },
  {
   "cell_type": "markdown",
   "id": "5e035180",
   "metadata": {},
   "source": [
    "## Bert Modelling"
   ]
  },
  {
   "cell_type": "code",
   "execution_count": null,
   "id": "22a62dc4",
   "metadata": {},
   "outputs": [],
   "source": [
    "!wget --quiet https://raw.githubusercontent.com/tensorflow/models/master/official/nlp/bert/tokenization.py"
   ]
  },
  {
   "cell_type": "code",
   "execution_count": null,
   "id": "623b05f3",
   "metadata": {},
   "outputs": [],
   "source": [
    "%%time\n",
    "\n",
    "bert_layer = hub.KerasLayer('https://tfhub.dev/tensorflow/bert_en_uncased_L-12_H-768_A-12/1', trainable=True)"
   ]
  }
 ],
 "metadata": {
  "kernelspec": {
   "display_name": "Python 3 (ipykernel)",
   "language": "python",
   "name": "python3"
  },
  "language_info": {
   "codemirror_mode": {
    "name": "ipython",
    "version": 3
   },
   "file_extension": ".py",
   "mimetype": "text/x-python",
   "name": "python",
   "nbconvert_exporter": "python",
   "pygments_lexer": "ipython3",
   "version": "3.9.10"
  }
 },
 "nbformat": 4,
 "nbformat_minor": 5
}
